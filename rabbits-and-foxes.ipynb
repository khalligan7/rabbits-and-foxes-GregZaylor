{
 "cells": [
  {
   "cell_type": "markdown",
   "metadata": {},
   "source": [
    "# Rabbits and foxes\n",
    "\n",
    "There are initially 400 rabbits and 200 foxes on a farm (but it could be two cell types in a 96 well plate or something, if you prefer bio-engineering analogies). Plot the concentration of foxes and rabbits as a function of time for a period of up to 600 days. The predator-prey relationships are given by the following set of coupled ordinary differential equations:\n",
    "\n",
    "\\begin{align}\n",
    "\\frac{dR}{dt} &= k_1 R - k_2 R F \\tag{1}\\\\\n",
    "\\frac{dF}{dt} &= k_3 R F - k_4 F \\tag{2}\\\\\n",
    "\\end{align}\n",
    "\n",
    "* Constant for growth of rabbits $k_1 = 0.015$ day<sup>-1</sup>\n",
    "* Constant for death of rabbits being eaten by foxes $k_2 = 0.00004$ day<sup>-1</sup> foxes<sup>-1</sup>\n",
    "* Constant for growth of foxes after eating rabbits $k_3 = 0.0004$ day<sup>-1</sup> rabbits<sup>-1</sup>\n",
    "* Constant for death of foxes $k_4 = 0.04$ day<sup>-1</sup>\n",
    "\n",
    "Also plot the number of foxes versus the number of rabbits.\n",
    "\n",
    "Then try also with \n",
    "* $k_3 = 0.00004$ day<sup>-1</sup> rabbits<sup>-1</sup>\n",
    "* $t_{final} = 800$ days\n",
    "\n",
    "*This problem is based on one from Chapter 1 of H. Scott Fogler's textbook \"Essentials of Chemical Reaction Engineering\".*\n"
   ]
  },
  {
   "cell_type": "markdown",
   "metadata": {
    "collapsed": true
   },
   "source": [
    "#### Solving ODEs\n",
    "\n",
    "*Much of the following content reused under Creative Commons Attribution license CC-BY 4.0, code under MIT license (c)2014 L.A. Barba, G.F. Forsyth. Partly based on David Ketcheson's pendulum lesson, also under CC-BY. https://github.com/numerical-mooc/numerical-mooc*\n",
    "\n",
    "Let's step back for a moment. Suppose we have a first-order ODE $u'=f(u)$. You know that if we were to integrate this, there would be an arbitrary constant of integration. To find its value, we do need to know one point on the curve $(t, u)$. When the derivative in the ODE is with respect to time, we call that point the _initial value_ and write something like this:\n",
    "\n",
    "$$u(t=0)=u_0$$\n",
    "\n",
    "In the case of a second-order ODE, we already saw how to write it as a system of first-order ODEs, and we would need an initial value for each equation: two conditions are needed to determine our constants of integration. The same applies for higher-order ODEs: if it is of order $n$, we can write it as $n$ first-order equations, and we need $n$ known values. If we have that data, we call the problem an _initial value problem_.\n",
    "\n",
    "Remember the definition of a derivative? The derivative represents the slope of the tangent at a point of the curve $u=u(t)$, and the definition of the derivative $u'$ for a function is:\n",
    "\n",
    "$$u'(t) = \\lim_{\\Delta t\\rightarrow 0} \\frac{u(t+\\Delta t)-u(t)}{\\Delta t}$$\n",
    "\n",
    "If the step $\\Delta t$ is already very small, we can _approximate_ the derivative by dropping the limit. We can write:\n",
    "\n",
    "$$\\begin{equation}\n",
    "u(t+\\Delta t) \\approx u(t) + u'(t) \\Delta t\n",
    "\\end{equation}$$\n",
    "\n",
    "With this equation, and because we know $u'(t)=f(u)$, if we have an initial value, we can step by $\\Delta t$ and find the value of $u(t+\\Delta t)$, then we can take this value, and find $u(t+2\\Delta t)$, and so on: we say that we _step in time_, numerically finding the solution $u(t)$ for a range of values: $t_1, t_2, t_3 \\cdots$, each separated by $\\Delta t$. The numerical solution of the ODE is simply the table of values $t_i, u_i$ that results from this process.\n"
   ]
  },
  {
   "cell_type": "markdown",
   "metadata": {},
   "source": [
    "# Euler's method\n",
    "*Also known as \"Simple Euler\" or sometimes \"Simple Error\".*\n",
    "\n",
    "The approximate solution at time $t_n$ is $u_n$, and the numerical solution of the differential equation consists of computing a sequence of approximate solutions by the following formula, based on Equation (10):\n",
    "\n",
    "$$u_{n+1} = u_n + \\Delta t \\,f(u_n).$$\n",
    "\n",
    "This formula is called **Euler's method**.\n",
    "\n",
    "For the equations of the rabbits and foxes, Euler's method gives the following algorithm that we need to implement in code:\n",
    "\n",
    "\\begin{align}\n",
    "R_{n+1} & = R_n + \\Delta t \\left(k_1 R_n - k_2 R_n F_n \\right) \\\\\n",
    "F_{n+1} & = F_n + \\Delta t \\left( k_3 R_n F_n - k_4 F_n \\right).\n",
    "\\end{align}\n"
   ]
  },
  {
   "cell_type": "code",
   "execution_count": 1,
   "metadata": {
    "collapsed": false
   },
   "outputs": [],
   "source": [
    "%matplotlib inline\n",
    "import numpy as np\n",
    "from matplotlib import pyplot as plt\n",
    "\n",
    "\n",
    "k1 = 0.015\n",
    "k2 = 0.00004\n",
    "k3 = 0.0004\n",
    "k4 = 0.04\n",
    "end_time = 600.\n",
    "step_size = 1.\n",
    "times = np.arange(0, end_time, step_size)\n",
    "rabbits = np.zeros_like(times)\n",
    "foxes = np.zeros_like(times)\n",
    "rabbits[0] = 400.\n",
    "foxes[0] = 200.\n",
    "for n in range(len(times)-1):\n",
    "    delta_t = times[n+1] - times[n]\n",
    "    rabbits[n+1] = rabbits[n] + delta_t * (k1 * rabbits[n] - k2 * rabbits[n] * foxes[n])\n",
    "    foxes[n+1] = foxes[n] + delta_t * (k3 * rabbits[n] * foxes[n] - k4 * foxes[n])\n"
   ]
  },
  {
   "cell_type": "code",
   "execution_count": 2,
   "metadata": {
    "collapsed": false
   },
   "outputs": [
    {
     "data": {
      "image/png": "[encoded data removed]",
      "text/plain": [
       "<matplotlib.figure.Figure at 0x2d6fa89f7f0>"
      ]
     },
     "metadata": {},
     "output_type": "display_data"
    }
   ],
   "source": [
    "plt.plot(times, rabbits, label='rabbits')\n",
    "plt.plot(times, foxes, label='foxes')\n",
    "plt.legend(loc=\"best\")\n",
    "plt.show()"
   ]
  },
  {
   "cell_type": "code",
   "execution_count": 3,
   "metadata": {
    "collapsed": false
   },
   "outputs": [
    {
     "name": "stdout",
     "output_type": "stream",
     "text": [
      "0\n",
      "step size 10.0\n",
      "max foxes 9998.78475782\n",
      "1\n",
      "step size 6.309573444801933\n",
      "max foxes 3757.41265232\n",
      "2\n",
      "step size 3.9810717055349722\n",
      "max foxes 6831.75851318\n",
      "3\n",
      "step size 2.51188643150958\n",
      "max foxes 4686.90809525\n",
      "4\n",
      "step size 1.5848931924611134\n",
      "max foxes 3801.65788402\n",
      "5\n",
      "step size 1.0\n",
      "max foxes 3379.27631701\n",
      "6\n",
      "step size 0.6309573444801934\n",
      "max foxes 3146.04098438\n",
      "7\n",
      "step size 0.3981071705534973\n",
      "max foxes 3012.6379837\n",
      "8\n",
      "step size 0.25118864315095796\n",
      "max foxes 2932.87919521\n",
      "9\n",
      "step size 0.15848931924611134\n",
      "max foxes 2884.18652591\n",
      "10\n",
      "step size 0.1\n",
      "max foxes 2854.12476091\n",
      "11\n",
      "step size 0.0630957344480193\n",
      "max foxes 2835.41436334\n",
      "12\n",
      "step size 0.039810717055349734\n",
      "max foxes 2823.7085615\n",
      "13\n",
      "step size 0.025118864315095794\n",
      "max foxes 2816.36116277\n",
      "14\n",
      "step size 0.01584893192461114\n",
      "max foxes 2811.74114081\n",
      "15\n",
      "step size 0.01\n",
      "max foxes 2808.83241288\n",
      "16\n",
      "step size 0.00630957344480193\n",
      "max foxes 2806.99952212\n",
      "17\n",
      "step size 0.003981071705534973\n",
      "max foxes 2805.84398119\n",
      "18\n",
      "step size 0.0025118864315095794\n",
      "max foxes 2805.11527259\n",
      "19\n",
      "step size 0.001584893192461114\n",
      "max foxes 2804.65564875\n"
     ]
    }
   ],
   "source": [
    "k1 = 0.015\n",
    "k2 = 0.00004\n",
    "k3 = 0.0004\n",
    "k4 = 0.04\n",
    "def solve_by_euler(step_size = 1.):\n",
    "    \"\"\"\n",
    "    Evaluate by simple Euler, with the given step size.\n",
    "    \n",
    "    Returns the peak number of foxes.\n",
    "    \"\"\"\n",
    "    end_time = 600.\n",
    "    times = np.arange(0, end_time, step_size)\n",
    "    rabbits = np.zeros_like(times)\n",
    "    foxes = np.zeros_like(times)\n",
    "    rabbits[0] = 400\n",
    "    foxes[0] = 200\n",
    "    for n in range(len(times)-1):\n",
    "        delta_t = times[n+1] - times[n]\n",
    "        rabbits[n+1] = rabbits[n] + delta_t * (k1 * rabbits[n] - k2 * rabbits[n] * foxes[n])\n",
    "        foxes[n+1] = foxes[n] + delta_t * (k3 * rabbits[n] * foxes[n] - k4 * foxes[n])\n",
    "    return foxes.max()\n",
    "\n",
    "step_sizes = []\n",
    "maximums = []\n",
    "for i in range(20):\n",
    "    print(i)\n",
    "    step_size = 10**(1-i/5)\n",
    "    print(\"step size\",step_size)\n",
    "    maximum = solve_by_euler(step_size)\n",
    "    print(\"max foxes\",maximum)\n",
    "    step_sizes.append(step_size)\n",
    "    maximums.append(maximum)"
   ]
  },
  {
   "cell_type": "code",
   "execution_count": 4,
   "metadata": {
    "collapsed": false
   },
   "outputs": [
    {
     "data": {
      "image/png": "[encoded data removed]",
      "text/plain": [
       "<matplotlib.figure.Figure at 0x2d6fc9c4518>"
      ]
     },
     "metadata": {},
     "output_type": "display_data"
    }
   ],
   "source": [
    "\n",
    "plt.semilogx(step_sizes, maximums, 'kd-')\n",
    "plt.ylabel(\"Maximum number of foxes in 600 days\")\n",
    "plt.xlabel(\"Step size for Euler method (days)\")\n",
    "plt.show()"
   ]
  },
  {
   "cell_type": "code",
   "execution_count": 5,
   "metadata": {
    "collapsed": true
   },
   "outputs": [],
   "source": [
    "maximums = np.array(maximums)\n",
    "errors = maximums - maximums[-1] # calculate error relative to the last value"
   ]
  },
  {
   "cell_type": "code",
   "execution_count": 6,
   "metadata": {
    "collapsed": false
   },
   "outputs": [
    {
     "data": {
      "image/png": "[encoded data removed]",
      "text/plain": [
       "<matplotlib.figure.Figure at 0x2d6fd26a588>"
      ]
     },
     "metadata": {},
     "output_type": "display_data"
    }
   ],
   "source": [
    "# plot all but the last point, because log(0.0) will cause problems scaling the axes\n",
    "plt.loglog(step_sizes[:-1], errors[:-1], 'ko-')\n",
    "\n",
    "plt.axis('equal') # scale the axes to make a square a square\n",
    "plt.grid(True) # turn on the grid lines\n",
    "plt.xlabel(\"$\\Delta t$\", fontsize=16)\n",
    "plt.ylabel(\"Error\", fontsize=16)\n",
    "plt.show()"
   ]
  },
  {
   "cell_type": "code",
   "execution_count": null,
   "metadata": {
    "collapsed": true
   },
   "outputs": [],
   "source": []
  }
 ],
 "metadata": {
  "anaconda-cloud": {},
  "kernelspec": {
   "display_name": "Python [Root]",
   "language": "python",
   "name": "Python [Root]"
  },
  "language_info": {
   "codemirror_mode": {
    "name": "ipython",
    "version": 3
   },
   "file_extension": ".py",
   "mimetype": "text/x-python",
   "name": "python",
   "nbconvert_exporter": "python",
   "pygments_lexer": "ipython3",
   "version": "3.5.2"
  }
 },
 "nbformat": 4,
 "nbformat_minor": 1
}
